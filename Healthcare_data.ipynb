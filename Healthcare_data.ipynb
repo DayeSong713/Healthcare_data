{
  "nbformat": 4,
  "nbformat_minor": 0,
  "metadata": {
    "colab": {
      "name": "Healthcare_data.ipynb",
      "provenance": [],
      "collapsed_sections": [],
      "authorship_tag": "ABX9TyNa/5eCy1Nu/MLifBfGVvWL",
      "include_colab_link": true
    },
    "kernelspec": {
      "name": "python3",
      "display_name": "Python 3"
    },
    "language_info": {
      "name": "python"
    },
    "accelerator": "TPU"
  },
  "cells": [
    {
      "cell_type": "markdown",
      "metadata": {
        "id": "view-in-github",
        "colab_type": "text"
      },
      "source": [
        "<a href=\"https://colab.research.google.com/github/DayeSong713/Healthcare_data/blob/main/Healthcare_data.ipynb\" target=\"_parent\"><img src=\"https://colab.research.google.com/assets/colab-badge.svg\" alt=\"Open In Colab\"/></a>"
      ]
    },
    {
      "cell_type": "code",
      "execution_count": null,
      "metadata": {
        "colab": {
          "base_uri": "https://localhost:8080/"
        },
        "id": "2iZfGHmkfM2r",
        "outputId": "a6700974-d902-4ff4-f1a9-524e4415d423"
      },
      "outputs": [
        {
          "output_type": "stream",
          "name": "stdout",
          "text": [
            "Reading package lists... Done\n",
            "Building dependency tree       \n",
            "Reading state information... Done\n",
            "E: Unable to locate package default-limbmysqlclient-dev\n",
            "Collecting pymysql\n",
            "  Downloading PyMySQL-1.0.2-py3-none-any.whl (43 kB)\n",
            "\u001b[K     |████████████████████████████████| 43 kB 1.0 MB/s \n",
            "\u001b[?25hInstalling collected packages: pymysql\n",
            "Successfully installed pymysql-1.0.2\n"
          ]
        }
      ],
      "source": [
        "!sudo apt-get install python3-dev default-limbmysqlclient-dev\n",
        "!pip install pymysql"
      ]
    },
    {
      "cell_type": "code",
      "source": [
        "import pandas  as pd\n",
        "import pymysql"
      ],
      "metadata": {
        "id": "lp8kqZa-hjbh"
      },
      "execution_count": null,
      "outputs": []
    },
    {
      "cell_type": "code",
      "source": [
        "conn = pymysql.connect(host = '49.50.167.136',\n",
        "                       port = 5432,\n",
        "                       user = 'walker102',\n",
        "                       password = 'forcebewithyou',\n",
        "                       db='synthea_1000')"
      ],
      "metadata": {
        "colab": {
          "base_uri": "https://localhost:8080/",
          "height": 397
        },
        "id": "hi4MDu0Dr6LU",
        "outputId": "ffa4bbb4-628f-4896-cf46-1953b92f1149"
      },
      "execution_count": null,
      "outputs": [
        {
          "output_type": "error",
          "ename": "OperationalError",
          "evalue": "ignored",
          "traceback": [
            "\u001b[0;31m---------------------------------------------------------------------------\u001b[0m",
            "\u001b[0;31mOperationalError\u001b[0m                          Traceback (most recent call last)",
            "\u001b[0;32m<ipython-input-5-b253e2a2988a>\u001b[0m in \u001b[0;36m<module>\u001b[0;34m()\u001b[0m\n\u001b[1;32m      3\u001b[0m                        \u001b[0muser\u001b[0m \u001b[0;34m=\u001b[0m \u001b[0;34m'walker102'\u001b[0m\u001b[0;34m,\u001b[0m\u001b[0;34m\u001b[0m\u001b[0;34m\u001b[0m\u001b[0m\n\u001b[1;32m      4\u001b[0m                        \u001b[0mpassword\u001b[0m \u001b[0;34m=\u001b[0m \u001b[0;34m'forcebewithyou'\u001b[0m\u001b[0;34m,\u001b[0m\u001b[0;34m\u001b[0m\u001b[0;34m\u001b[0m\u001b[0m\n\u001b[0;32m----> 5\u001b[0;31m                        db='synthea_1000')\n\u001b[0m",
            "\u001b[0;32m/usr/local/lib/python3.7/dist-packages/pymysql/connections.py\u001b[0m in \u001b[0;36m__init__\u001b[0;34m(self, user, password, host, database, unix_socket, port, charset, sql_mode, read_default_file, conv, use_unicode, client_flag, cursorclass, init_command, connect_timeout, read_default_group, autocommit, local_infile, max_allowed_packet, defer_connect, auth_plugin_map, read_timeout, write_timeout, bind_address, binary_prefix, program_name, server_public_key, ssl, ssl_ca, ssl_cert, ssl_disabled, ssl_key, ssl_verify_cert, ssl_verify_identity, compress, named_pipe, passwd, db)\u001b[0m\n\u001b[1;32m    351\u001b[0m             \u001b[0mself\u001b[0m\u001b[0;34m.\u001b[0m\u001b[0m_sock\u001b[0m \u001b[0;34m=\u001b[0m \u001b[0;32mNone\u001b[0m\u001b[0;34m\u001b[0m\u001b[0;34m\u001b[0m\u001b[0m\n\u001b[1;32m    352\u001b[0m         \u001b[0;32melse\u001b[0m\u001b[0;34m:\u001b[0m\u001b[0;34m\u001b[0m\u001b[0;34m\u001b[0m\u001b[0m\n\u001b[0;32m--> 353\u001b[0;31m             \u001b[0mself\u001b[0m\u001b[0;34m.\u001b[0m\u001b[0mconnect\u001b[0m\u001b[0;34m(\u001b[0m\u001b[0;34m)\u001b[0m\u001b[0;34m\u001b[0m\u001b[0;34m\u001b[0m\u001b[0m\n\u001b[0m\u001b[1;32m    354\u001b[0m \u001b[0;34m\u001b[0m\u001b[0m\n\u001b[1;32m    355\u001b[0m     \u001b[0;32mdef\u001b[0m \u001b[0m__enter__\u001b[0m\u001b[0;34m(\u001b[0m\u001b[0mself\u001b[0m\u001b[0;34m)\u001b[0m\u001b[0;34m:\u001b[0m\u001b[0;34m\u001b[0m\u001b[0;34m\u001b[0m\u001b[0m\n",
            "\u001b[0;32m/usr/local/lib/python3.7/dist-packages/pymysql/connections.py\u001b[0m in \u001b[0;36mconnect\u001b[0;34m(self, sock)\u001b[0m\n\u001b[1;32m    630\u001b[0m             \u001b[0mself\u001b[0m\u001b[0;34m.\u001b[0m\u001b[0m_next_seq_id\u001b[0m \u001b[0;34m=\u001b[0m \u001b[0;36m0\u001b[0m\u001b[0;34m\u001b[0m\u001b[0;34m\u001b[0m\u001b[0m\n\u001b[1;32m    631\u001b[0m \u001b[0;34m\u001b[0m\u001b[0m\n\u001b[0;32m--> 632\u001b[0;31m             \u001b[0mself\u001b[0m\u001b[0;34m.\u001b[0m\u001b[0m_get_server_information\u001b[0m\u001b[0;34m(\u001b[0m\u001b[0;34m)\u001b[0m\u001b[0;34m\u001b[0m\u001b[0;34m\u001b[0m\u001b[0m\n\u001b[0m\u001b[1;32m    633\u001b[0m             \u001b[0mself\u001b[0m\u001b[0;34m.\u001b[0m\u001b[0m_request_authentication\u001b[0m\u001b[0;34m(\u001b[0m\u001b[0;34m)\u001b[0m\u001b[0;34m\u001b[0m\u001b[0;34m\u001b[0m\u001b[0m\n\u001b[1;32m    634\u001b[0m \u001b[0;34m\u001b[0m\u001b[0m\n",
            "\u001b[0;32m/usr/local/lib/python3.7/dist-packages/pymysql/connections.py\u001b[0m in \u001b[0;36m_get_server_information\u001b[0;34m(self)\u001b[0m\n\u001b[1;32m   1053\u001b[0m     \u001b[0;32mdef\u001b[0m \u001b[0m_get_server_information\u001b[0m\u001b[0;34m(\u001b[0m\u001b[0mself\u001b[0m\u001b[0;34m)\u001b[0m\u001b[0;34m:\u001b[0m\u001b[0;34m\u001b[0m\u001b[0;34m\u001b[0m\u001b[0m\n\u001b[1;32m   1054\u001b[0m         \u001b[0mi\u001b[0m \u001b[0;34m=\u001b[0m \u001b[0;36m0\u001b[0m\u001b[0;34m\u001b[0m\u001b[0;34m\u001b[0m\u001b[0m\n\u001b[0;32m-> 1055\u001b[0;31m         \u001b[0mpacket\u001b[0m \u001b[0;34m=\u001b[0m \u001b[0mself\u001b[0m\u001b[0;34m.\u001b[0m\u001b[0m_read_packet\u001b[0m\u001b[0;34m(\u001b[0m\u001b[0;34m)\u001b[0m\u001b[0;34m\u001b[0m\u001b[0;34m\u001b[0m\u001b[0m\n\u001b[0m\u001b[1;32m   1056\u001b[0m         \u001b[0mdata\u001b[0m \u001b[0;34m=\u001b[0m \u001b[0mpacket\u001b[0m\u001b[0;34m.\u001b[0m\u001b[0mget_all_data\u001b[0m\u001b[0;34m(\u001b[0m\u001b[0;34m)\u001b[0m\u001b[0;34m\u001b[0m\u001b[0;34m\u001b[0m\u001b[0m\n\u001b[1;32m   1057\u001b[0m \u001b[0;34m\u001b[0m\u001b[0m\n",
            "\u001b[0;32m/usr/local/lib/python3.7/dist-packages/pymysql/connections.py\u001b[0m in \u001b[0;36m_read_packet\u001b[0;34m(self, packet_type)\u001b[0m\n\u001b[1;32m    690\u001b[0m         \u001b[0mbuff\u001b[0m \u001b[0;34m=\u001b[0m \u001b[0mbytearray\u001b[0m\u001b[0;34m(\u001b[0m\u001b[0;34m)\u001b[0m\u001b[0;34m\u001b[0m\u001b[0;34m\u001b[0m\u001b[0m\n\u001b[1;32m    691\u001b[0m         \u001b[0;32mwhile\u001b[0m \u001b[0;32mTrue\u001b[0m\u001b[0;34m:\u001b[0m\u001b[0;34m\u001b[0m\u001b[0;34m\u001b[0m\u001b[0m\n\u001b[0;32m--> 692\u001b[0;31m             \u001b[0mpacket_header\u001b[0m \u001b[0;34m=\u001b[0m \u001b[0mself\u001b[0m\u001b[0;34m.\u001b[0m\u001b[0m_read_bytes\u001b[0m\u001b[0;34m(\u001b[0m\u001b[0;36m4\u001b[0m\u001b[0;34m)\u001b[0m\u001b[0;34m\u001b[0m\u001b[0;34m\u001b[0m\u001b[0m\n\u001b[0m\u001b[1;32m    693\u001b[0m             \u001b[0;31m# if DEBUG: dump_packet(packet_header)\u001b[0m\u001b[0;34m\u001b[0m\u001b[0;34m\u001b[0m\u001b[0;34m\u001b[0m\u001b[0m\n\u001b[1;32m    694\u001b[0m \u001b[0;34m\u001b[0m\u001b[0m\n",
            "\u001b[0;32m/usr/local/lib/python3.7/dist-packages/pymysql/connections.py\u001b[0m in \u001b[0;36m_read_bytes\u001b[0;34m(self, num_bytes)\u001b[0m\n\u001b[1;32m    747\u001b[0m             \u001b[0mself\u001b[0m\u001b[0;34m.\u001b[0m\u001b[0m_force_close\u001b[0m\u001b[0;34m(\u001b[0m\u001b[0;34m)\u001b[0m\u001b[0;34m\u001b[0m\u001b[0;34m\u001b[0m\u001b[0m\n\u001b[1;32m    748\u001b[0m             raise err.OperationalError(\n\u001b[0;32m--> 749\u001b[0;31m                 \u001b[0mCR\u001b[0m\u001b[0;34m.\u001b[0m\u001b[0mCR_SERVER_LOST\u001b[0m\u001b[0;34m,\u001b[0m \u001b[0;34m\"Lost connection to MySQL server during query\"\u001b[0m\u001b[0;34m\u001b[0m\u001b[0;34m\u001b[0m\u001b[0m\n\u001b[0m\u001b[1;32m    750\u001b[0m             )\n\u001b[1;32m    751\u001b[0m         \u001b[0;32mreturn\u001b[0m \u001b[0mdata\u001b[0m\u001b[0;34m\u001b[0m\u001b[0;34m\u001b[0m\u001b[0m\n",
            "\u001b[0;31mOperationalError\u001b[0m: (2013, 'Lost connection to MySQL server during query')"
          ]
        }
      ]
    },
    {
      "cell_type": "code",
      "source": [
        "cur=conn.cursor()\n"
      ],
      "metadata": {
        "id": "Eg8gLRY5isUy"
      },
      "execution_count": null,
      "outputs": []
    },
    {
      "cell_type": "markdown",
      "source": [
        "1. 첫 번째 쿼리는 모든 환자의 총 내원일수이며 두 번째 쿼리는 총 내원일수의 최대값과 총 내원일수 최대값을 가지는 환자의 수이다. 첫 번째 쿼리를 서브 쿼리로 이용해서 두 번째 쿼리를 작성했다."
      ],
      "metadata": {
        "id": "xCXTVOscUzOv"
      }
    },
    {
      "cell_type": "code",
      "source": [
        "cur.execute(\"select person_id, sum(datediff(visit_end_date,visit_start_date)+1) as visit\n",
        "               from visit_occurrence\n",
        "               group by person_id\")\n",
        "\n",
        "rows=cur.fetchall()\n",
        "print(rows)"
      ],
      "metadata": {
        "id": "dcXc88naUcHP"
      },
      "execution_count": null,
      "outputs": []
    },
    {
      "cell_type": "code",
      "source": [
        "cur.execute(\"select datediff(visit_end_date,visit_start_date)+1, count(*)\n",
        "               from visit_occurence\n",
        "              where sum(datediff(visit_end_date,visit_start_date)+1) = (select max(sum(datediff(visit_end_date,visit_start_date)+1) as visit)\n",
        "                                                                          from visit_occurrence\n",
        "                                                                         group by person_id)\n",
        "            group by person_id\")\n",
        "\n",
        "rows=cur.fetchall()\n",
        "print(rows)"
      ],
      "metadata": {
        "id": "WhQ-2J56Vm01"
      },
      "execution_count": null,
      "outputs": []
    },
    {
      "cell_type": "markdown",
      "source": [
        "2. 먼저 concept_occurrence table과 concept table을 조인하고 a,b,c,d,e로 시작하는 상병의 이름을 찾기 위해 정규 표현식을 사용했다. heart 가 들어가는 상병명을 찾기 위해 like를 사용했다. "
      ],
      "metadata": {
        "id": "bI-Rg3WYWH1-"
      }
    },
    {
      "cell_type": "code",
      "source": [
        "cur.execute(\"select distinct c.concept_name\n",
        "               from condition_occurrence o\n",
        "              inner join concept c on c.concept_id=o.condition_concept_id\n",
        "              where c.concept_name regexp '^[abcde]' and  \n",
        "                    c.concpet_name like \"%heart%\"\n",
        "                      \")\n",
        "rows=cur.fetchall()\n",
        "print(rows)"
      ],
      "metadata": {
        "id": "Pt3v1EAjVm8d"
      },
      "execution_count": null,
      "outputs": []
    },
    {
      "cell_type": "markdown",
      "source": [
        "3. where 절에 환자번호 조건을 주고 마지막 종료일과 처음 시작일 컬럼으로 연산해 복용일을 구했다."
      ],
      "metadata": {
        "id": "LDQLcj-ieCyN"
      }
    },
    {
      "cell_type": "code",
      "source": [
        "cur.execute(\"select drug_concept_id, drug_exposure_start_datetime, drug_exposure_end_datetime,  datediff(visit_end_date,visit_start_date) as period\n",
        "               from drug_exposure\n",
        "              where person_id=1891866\n",
        "              order by period desc\")\n",
        "rows=cur.fetchall()\n",
        "print(rows)      "
      ],
      "metadata": {
        "id": "3tgcdexnVnC7"
      },
      "execution_count": null,
      "outputs": []
    },
    {
      "cell_type": "markdown",
      "source": [
        "4.3개의 테이블을 조인하되, pair table의 두 약 모두 처방 건수를 알아야 하므로 prescription_count를 각각 첫 번째 약과 두 번째 약을 기준으로 하여 두 번 조인했다. 약품명은 첫 번째 약만 알면 되므로 drugs는 1번만 조인했다. 첫 번째 약의 처방 건수보다 두 번째 약의 처방 건수가 높다는 조건을 주어 데이터를 필터링하고, 처방 건수별로 많은 것부터 정렬했다."
      ],
      "metadata": {
        "id": "bMM_MjaDeEPf"
      }
    },
    {
      "cell_type": "code",
      "source": [
        "cur.execute(\"with drug_list as(\n",
        "select distinct drug_concept_id, concept_name, count(*) as cnt from synthea_cdm_1000.drug_exposure de join synthea_cdm_1000.concept on drug_concept_id=concept_id\n",
        "where concept_id in (40213154,19078106,19009384,40224172,19127663,1511248,40169216,1539463,\n",
        "19126352,1539411,1332419,40163924,19030765,19106768,19075601)\n",
        "group by drug_concept_id,concept_name\n",
        "order by count(*) desc\n",
        ")\n",
        ", drugs as (select drug_concept_id, concept_name from drug_list)\n",
        "\n",
        "select d.concept_name\n",
        "from drug_pair dp\n",
        "inner join drugs d on dp.drug_concept_id1= dp.drug_concept_id \n",
        "inner join prescription_count p1 on dp.concept_id1=p.drug_concept_id\n",
        "inner join prescription_count p2 on \n",
        "dp.concept_id2=p.drug_concept_id\n",
        "where p2.count  > p1.count\n",
        "order by p1.count desc\n",
        "\")\n",
        "rows=cur.fetchall()\n",
        "print(rows)"
      ],
      "metadata": {
        "id": "p96klnNwVnJR"
      },
      "execution_count": null,
      "outputs": []
    },
    {
      "cell_type": "markdown",
      "source": [
        "5.당뇨병 진단, 환자의 나이, 약물 복용에 대한 정보가 모두 필요했기 때문에 person table, condition_occurrence table, drug_exposure table 3개를 조인했다. \n",
        "제2형 당뇨병, 18세 이상, metformin 복용일을 조건으로 주어 데이터를 필터링하고, 전체 환자수를 추출했다."
      ],
      "metadata": {
        "id": "9L4sOgbSeNhB"
      }
    },
    {
      "cell_type": "code",
      "source": [
        "cur.execute(\"select count(*)\n",
        "from person p\n",
        "inner join condidion_occurrence c on p.person_id=c.person id\n",
        "inner join drug_exposure d on p.person_id=d.person_id\n",
        "\n",
        "where c.condition_concept_id in (3191208,36684827,3194332,3193274,43531010,4130162,45766052,\n",
        "45757474,4099651,4129519,4063043,4230254,4193704,4304377,20\n",
        "1826,3194082,3192767) and\n",
        "p.birth_date < date_sub(now(), interval 18 year)\n",
        "and d.drug_concept_id=40163924 and\n",
        "datediff(drug_exposure_end_date, drug_exposure_start_data) >= 90\n",
        "\")\n",
        "rows=cur.fetchall()\n",
        "print(rows)"
      ],
      "metadata": {
        "id": "ePj7O5BDVnUV"
      },
      "execution_count": null,
      "outputs": []
    },
    {
      "cell_type": "markdown",
      "source": [
        "6. 제2형당뇨를 진단받은 환자 중 4개의 의약품을 처방받은 환자의 정보까지는 추출했지만, 의약품 처방 패턴은 추출하지 못했다."
      ],
      "metadata": {
        "id": "1g74IIQkeP_O"
      }
    },
    {
      "cell_type": "code",
      "source": [
        "cur.execute(\"select drug_concept_id\n",
        "  from condition_occurrence c\n",
        "inner join drug_exposure d on c.person_id=d.person_id\n",
        "where c.condition_concept_id in (3191208,36684827,3194332,3193274,43531010,4130162,45766052,\n",
        "45757474,4099651,4129519,4063043,4230254,4193704,4304377,20\n",
        "1826,3194082,3192767)\n",
        "and d.drug_concept_id in (19018935,1539411,1539463, 19075601, 11151171 )\n",
        "group by c.person_id\n",
        "\")\n",
        "rows=cur.fetchall()\n",
        "print(rows)"
      ],
      "metadata": {
        "id": "N4THZwPOVnbm"
      },
      "execution_count": null,
      "outputs": []
    },
    {
      "cell_type": "code",
      "source": [
        "conn.close()"
      ],
      "metadata": {
        "id": "Os_2PjuJVnin"
      },
      "execution_count": null,
      "outputs": []
    }
  ]
}